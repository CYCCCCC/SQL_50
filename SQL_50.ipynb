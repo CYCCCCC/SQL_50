{
 "cells": [
  {
   "cell_type": "markdown",
   "metadata": {},
   "source": [
    "1757. Recyclable and Low Fat Products"
   ]
  },
  {
   "cell_type": "code",
   "execution_count": null,
   "metadata": {},
   "outputs": [],
   "source": [
    "select product_id\n",
    "from Products\n",
    "where low_fats = 'Y' and recyclable = 'Y';"
   ]
  },
  {
   "cell_type": "markdown",
   "metadata": {},
   "source": [
    "584. Find Customer Referee"
   ]
  },
  {
   "cell_type": "code",
   "execution_count": null,
   "metadata": {},
   "outputs": [],
   "source": [
    "select name \n",
    "from Customer\n",
    "where referee_id <> 2 or referee_id is null;"
   ]
  },
  {
   "cell_type": "markdown",
   "metadata": {},
   "source": [
    "595. Big Countries"
   ]
  },
  {
   "cell_type": "code",
   "execution_count": null,
   "metadata": {},
   "outputs": [],
   "source": [
    "select name, population, area\n",
    "from World\n",
    "where area >= 3000000 or population >= 25000000;"
   ]
  },
  {
   "cell_type": "markdown",
   "metadata": {},
   "source": [
    "1148. Article Views I"
   ]
  },
  {
   "cell_type": "code",
   "execution_count": null,
   "metadata": {},
   "outputs": [],
   "source": [
    "select distinct author_id as id\n",
    "from Views\n",
    "where author_id = viewer_id\n",
    "order by author_id asc;"
   ]
  },
  {
   "cell_type": "markdown",
   "metadata": {},
   "source": [
    "1683. Invalid Tweets"
   ]
  },
  {
   "cell_type": "code",
   "execution_count": null,
   "metadata": {},
   "outputs": [],
   "source": [
    "select tweet_id\n",
    "from Tweets\n",
    "where length(content) > 15;"
   ]
  },
  {
   "cell_type": "markdown",
   "metadata": {},
   "source": [
    "1378. Replace Employee ID With The Unique Identifier"
   ]
  },
  {
   "cell_type": "code",
   "execution_count": null,
   "metadata": {},
   "outputs": [],
   "source": [
    "select unique_id, name\n",
    "from Employees a\n",
    "left join EmployeeUNI b\n",
    "on a.id = b.id;"
   ]
  },
  {
   "cell_type": "markdown",
   "metadata": {},
   "source": [
    "1068. Product Sales Analysis I"
   ]
  },
  {
   "cell_type": "code",
   "execution_count": null,
   "metadata": {},
   "outputs": [],
   "source": [
    "select b.product_name, a.year, a.price\n",
    "from Sales a \n",
    "left join Product b \n",
    "on a.product_id = b.product_id;"
   ]
  },
  {
   "cell_type": "markdown",
   "metadata": {},
   "source": [
    "1581. Customer Who Visited but Did Not Make Any Transactions"
   ]
  },
  {
   "cell_type": "code",
   "execution_count": null,
   "metadata": {},
   "outputs": [],
   "source": [
    "select customer_id, count(*) as count_no_trans\n",
    "from Visits a\n",
    "left join Transactions b\n",
    "on a.visit_id = b.visit_id\n",
    "where transaction_id is null\n",
    "group by customer_id;"
   ]
  },
  {
   "cell_type": "markdown",
   "metadata": {},
   "source": [
    "197. Rising Temperature"
   ]
  },
  {
   "cell_type": "code",
   "execution_count": null,
   "metadata": {},
   "outputs": [],
   "source": [
    "select a.id\n",
    "from Weather a\n",
    "left join Weather b\n",
    "on a.recordDate = date_add(b.recordDate, interval 1 day)\n",
    "where a.temperature > b.temperature;"
   ]
  },
  {
   "cell_type": "code",
   "execution_count": null,
   "metadata": {},
   "outputs": [],
   "source": [
    "# lag function only can be used in same time difference\n",
    "\n",
    "# select id\n",
    "# from \n",
    "#     (select *, \n",
    "#             lag(temperature, 1) over (order by recordDate asc) as pre_temp\n",
    "#      from Weather) as a\n",
    "# where temperature > pre_temp"
   ]
  },
  {
   "cell_type": "markdown",
   "metadata": {},
   "source": [
    "1661. Average Time of Process per Machine"
   ]
  },
  {
   "cell_type": "code",
   "execution_count": null,
   "metadata": {},
   "outputs": [],
   "source": [
    "select a.machine_id, round(avg(b.timestamp - a.timestamp), 3) as processing_time\n",
    "from Activity a\n",
    "inner join Activity b\n",
    "on a.machine_id = b.machine_id \n",
    "and a.process_id = b.process_id\n",
    "and a.activity_type = 'start' and b.activity_type = 'end'\n",
    "group by a.machine_id"
   ]
  },
  {
   "cell_type": "code",
   "execution_count": null,
   "metadata": {},
   "outputs": [],
   "source": [
    "# select machine_id, round(avg(processing_time), 3) as processing_time\n",
    "# from (\n",
    "#     select machine_id, process_id, \n",
    "#         (max(timestamp) - min(timestamp)) as processing_time\n",
    "#     from Activity\n",
    "#     group by machine_id, process_id) a\n",
    "# group by machine_id"
   ]
  },
  {
   "cell_type": "markdown",
   "metadata": {},
   "source": [
    "577. Employee Bonus"
   ]
  },
  {
   "cell_type": "code",
   "execution_count": null,
   "metadata": {},
   "outputs": [],
   "source": [
    "select a.name, b.bonus \n",
    "from Employee a\n",
    "left join Bonus b\n",
    "on a.empId = b.empId\n",
    "where b.bonus < 1000 or b.bonus is null;"
   ]
  },
  {
   "cell_type": "markdown",
   "metadata": {},
   "source": [
    "1280. Students and Examinations"
   ]
  },
  {
   "cell_type": "code",
   "execution_count": null,
   "metadata": {},
   "outputs": [],
   "source": [
    "select a.*, count(b.subject_name) as attended_exams\n",
    "from (select * from Students cross join Subjects) a\n",
    "left join Examinations b\n",
    "on a.student_id = b.student_id\n",
    "and a.subject_name = b.subject_name\n",
    "group by 1, 2, 3\n",
    "order by 1, 3;"
   ]
  },
  {
   "cell_type": "markdown",
   "metadata": {},
   "source": [
    "570. Managers with at Least 5 Direct Reports"
   ]
  },
  {
   "cell_type": "code",
   "execution_count": null,
   "metadata": {},
   "outputs": [],
   "source": [
    "select a.name\n",
    "from Employee a\n",
    "left join Employee b on a.id = b.managerId\n",
    "group by a.id\n",
    "having count(*) >= 5\n",
    "\n",
    "\n",
    "# select name\n",
    "# from Employee\n",
    "# where id in (select managerId \n",
    "#              from Employee\n",
    "#              group by managerId\n",
    "#              having count(*) >= 5)\n",
    "# group by id;"
   ]
  },
  {
   "cell_type": "markdown",
   "metadata": {},
   "source": [
    "1934. Confirmation Rate"
   ]
  },
  {
   "cell_type": "code",
   "execution_count": null,
   "metadata": {},
   "outputs": [],
   "source": [
    "select a.user_id, \n",
    "       ifnull(round(sum(b.action = 'confirmed') / count(b.action), 2), 0) as confirmation_rate\n",
    "from Signups a\n",
    "left join Confirmations b\n",
    "on a.user_id = b.user_id\n",
    "group by a.user_id;"
   ]
  },
  {
   "cell_type": "markdown",
   "metadata": {},
   "source": [
    "620. Not Boring Movies"
   ]
  },
  {
   "cell_type": "code",
   "execution_count": null,
   "metadata": {},
   "outputs": [],
   "source": [
    "select *\n",
    "from Cinema\n",
    "where id % 2 = 1\n",
    "and description <> 'boring'\n",
    "order by rating desc"
   ]
  },
  {
   "cell_type": "markdown",
   "metadata": {},
   "source": [
    "1251. Average Selling Price"
   ]
  },
  {
   "cell_type": "code",
   "execution_count": null,
   "metadata": {},
   "outputs": [],
   "source": [
    "select a.product_id, \n",
    "       ifnull(round(sum(a.price * b.units) / sum(b.units), 2), 0) as average_price\n",
    "from Prices a\n",
    "left join UnitsSold b\n",
    "on a.product_id = b.product_id\n",
    "and b.purchase_date between a.start_date and a.end_date\n",
    "group by a.product_id;"
   ]
  },
  {
   "cell_type": "markdown",
   "metadata": {},
   "source": [
    "1075. Project Employees I"
   ]
  },
  {
   "cell_type": "code",
   "execution_count": null,
   "metadata": {},
   "outputs": [],
   "source": [
    "select project_id, round(avg(b.experience_years), 2) as average_years\n",
    "from Project a\n",
    "left join Employee b\n",
    "on a.employee_id = b.employee_id\n",
    "group by project_id;"
   ]
  },
  {
   "cell_type": "markdown",
   "metadata": {},
   "source": [
    "1633. Percentage of Users Attended a Contest"
   ]
  },
  {
   "cell_type": "code",
   "execution_count": null,
   "metadata": {},
   "outputs": [],
   "source": [
    "select a.contest_id, round((count(*)/total_user)*100, 2) as percentage\n",
    "from Register a\n",
    "join (\n",
    "    select count(distinct user_id) as total_user from Users\n",
    ") b\n",
    "group by a.contest_id\n",
    "order by percentage desc, a.contest_id asc;"
   ]
  },
  {
   "cell_type": "markdown",
   "metadata": {},
   "source": [
    "1211. Queries Quality and Percentage"
   ]
  },
  {
   "cell_type": "code",
   "execution_count": null,
   "metadata": {},
   "outputs": [],
   "source": [
    "select query_name, round(avg(rating/position), 2) as quality,\n",
    "       round((sum(case when rating < 3 then 1 else 0 end)/count(*))*100, 2) as poor_query_percentage\n",
    "from Queries\n",
    "where query_name is not null\n",
    "group by query_name;\n"
   ]
  },
  {
   "cell_type": "markdown",
   "metadata": {},
   "source": [
    "1193. Monthly Transactions I"
   ]
  },
  {
   "cell_type": "code",
   "execution_count": null,
   "metadata": {},
   "outputs": [],
   "source": [
    "select date_format(trans_date, '%Y-%m') as month, country,\n",
    "       count(*) as trans_count,\n",
    "       sum(case when state = 'approved' then 1 else 0 end) as approved_count,\n",
    "       sum(amount) as trans_total_amount,\n",
    "       sum(case when state = 'approved' then amount else 0 end) as approved_total_amount\n",
    "from Transactions\n",
    "group by month, country;"
   ]
  },
  {
   "cell_type": "markdown",
   "metadata": {},
   "source": [
    "1174. Immediate Food Delivery II"
   ]
  },
  {
   "cell_type": "code",
   "execution_count": null,
   "metadata": {},
   "outputs": [],
   "source": [
    "select round(avg(order_date = customer_pref_delivery_date)*100, 2) as immediate_percentage\n",
    "from (\n",
    "    select *, rank() over(partition by customer_id order by order_date) as order_no\n",
    "    from Delivery\n",
    ") a\n",
    "where order_no = 1\n",
    "\n",
    "\n",
    "# select round(sum(case when order_date = customer_pref_delivery_date then 1 else 0 end)/count(*) *100, 2) as immediate_percentage\n",
    "# from (\n",
    "#     select *, rank() over(partition by customer_id order by order_date) as ranking\n",
    "#     from Delivery) a\n",
    "# where ranking = 1;"
   ]
  },
  {
   "cell_type": "code",
   "execution_count": null,
   "metadata": {},
   "outputs": [],
   "source": [
    "# select round(sum(case when order_date = customer_pref_delivery_date then 1 else 0 end) / count(*) *100, 2) as immediate_percentage\n",
    "# from(\n",
    "#     select customer_id, min(order_date) as first_order_date\n",
    "#     from Delivery\n",
    "#     group by customer_id) a\n",
    "# left join Delivery b\n",
    "# on a.customer_id = b.customer_id and a.first_order_date = b.order_date;"
   ]
  },
  {
   "cell_type": "markdown",
   "metadata": {},
   "source": [
    "550. Game Play Analysis IV"
   ]
  },
  {
   "cell_type": "code",
   "execution_count": null,
   "metadata": {},
   "outputs": [],
   "source": [
    "select round(count(distinct b.player_id)/count(distinct a.player_id), 2) as fraction\n",
    "from (\n",
    "    select player_id, min(event_date) as first_date\n",
    "    from Activity\n",
    "    group by player_id\n",
    ") a\n",
    "left join Activity b \n",
    "on first_date = date_sub(b.event_date, interval 1 day) and a.player_id = b.player_id\n",
    "\n",
    "\n",
    "# select round(count(player_id)/(select count(distinct player_id) from Activity), 2) as fraction\n",
    "# from Activity\n",
    "# where (player_id, date_sub(event_date, interval 1 day)) in \n",
    "#     (select player_id, min(event_date) as first_event_date \n",
    "#     from Activity\n",
    "#     group by player_id);"
   ]
  },
  {
   "cell_type": "code",
   "execution_count": null,
   "metadata": {},
   "outputs": [],
   "source": [
    "# select round(\n",
    "#     (select count(distinct a.player_id)\n",
    "#     from (\n",
    "#         select player_id, min(event_date) as first_event_date\n",
    "#         from Activity\n",
    "#         group by player_id) a\n",
    "#     inner join Activity b\n",
    "#     on a.player_id = b.player_id\n",
    "#     and date_add(a.first_event_date, interval 1 day) = b.event_date) / \n",
    "#     (select count(distinct player_id) from Activity), 2) as fraction;"
   ]
  },
  {
   "cell_type": "markdown",
   "metadata": {},
   "source": [
    "2356. Number of Unique Subjects Taught by Each Teacher"
   ]
  },
  {
   "cell_type": "code",
   "execution_count": null,
   "metadata": {},
   "outputs": [],
   "source": [
    "select teacher_id, count(distinct subject_id) as cnt\n",
    "from Teacher\n",
    "group by teacher_id;"
   ]
  },
  {
   "cell_type": "markdown",
   "metadata": {},
   "source": [
    "1141. User Activity for the Past 30 Days I"
   ]
  },
  {
   "cell_type": "code",
   "execution_count": null,
   "metadata": {},
   "outputs": [],
   "source": [
    "select activity_date as day, count(distinct user_id) as active_users\n",
    "from Activity\n",
    "where activity_date between date_sub('2019-07-27', interval 29 day) and '2019-07-27'\n",
    "group by activity_date"
   ]
  },
  {
   "cell_type": "markdown",
   "metadata": {},
   "source": [
    "1070. Product Sales Analysis III"
   ]
  },
  {
   "cell_type": "code",
   "execution_count": null,
   "metadata": {},
   "outputs": [],
   "source": [
    "select product_id, year as first_year, quantity, price\n",
    "from Sales\n",
    "where (product_id, year) in \n",
    "(select product_id, min(year) from Sales group by product_id);"
   ]
  },
  {
   "cell_type": "code",
   "execution_count": null,
   "metadata": {},
   "outputs": [],
   "source": [
    "# select a.*, b.quantity, b.price\n",
    "# from(\n",
    "#     select product_id, min(year) as first_year\n",
    "#     from Sales\n",
    "#     group by product_id) a\n",
    "# inner join Sales b\n",
    "# on a.product_id = b.product_id\n",
    "# and a.first_year = b.year;"
   ]
  },
  {
   "cell_type": "markdown",
   "metadata": {},
   "source": [
    "596. Classes More Than 5 Students"
   ]
  },
  {
   "cell_type": "code",
   "execution_count": null,
   "metadata": {},
   "outputs": [],
   "source": [
    "select class\n",
    "from Courses\n",
    "group by class\n",
    "having count(student) >= 5;"
   ]
  },
  {
   "cell_type": "markdown",
   "metadata": {},
   "source": [
    "1729. Find Followers Count"
   ]
  },
  {
   "cell_type": "code",
   "execution_count": null,
   "metadata": {},
   "outputs": [],
   "source": [
    "select user_id, count(follower_id) as followers_count\n",
    "from Followers\n",
    "group by user_id\n",
    "order by user_id;"
   ]
  },
  {
   "cell_type": "markdown",
   "metadata": {},
   "source": [
    "619. Biggest Single Number"
   ]
  },
  {
   "cell_type": "code",
   "execution_count": null,
   "metadata": {},
   "outputs": [],
   "source": [
    "select max(num) as num\n",
    "from (\n",
    "    select num\n",
    "    from MyNumbers\n",
    "    group by num\n",
    "    having count(*) = 1) a;"
   ]
  },
  {
   "cell_type": "markdown",
   "metadata": {},
   "source": [
    "1045. Customers Who Bought All Products"
   ]
  },
  {
   "cell_type": "code",
   "execution_count": null,
   "metadata": {},
   "outputs": [],
   "source": [
    "with prod as (\n",
    "    select count(*) as prod_cnt\n",
    "    from Product)\n",
    "\n",
    "select customer_id\n",
    "from Customer, prod\n",
    "group by customer_id\n",
    "having count(distinct product_key) = (select prod_cnt from prod)"
   ]
  },
  {
   "cell_type": "code",
   "execution_count": null,
   "metadata": {},
   "outputs": [],
   "source": [
    "# select a.customer_id\n",
    "# from Customer a\n",
    "# join Product b\n",
    "# on a.product_key = b.product_key\n",
    "# group by a.customer_id\n",
    "# having count(distinct a.product_key) = (select count(*) from Product)"
   ]
  },
  {
   "cell_type": "markdown",
   "metadata": {},
   "source": [
    "1731. The Number of Employees Which Report to Each Employee"
   ]
  },
  {
   "cell_type": "code",
   "execution_count": null,
   "metadata": {},
   "outputs": [],
   "source": [
    "select a.employee_id, a.name, count(*) as reports_count, round(avg(b.age)) as average_age\n",
    "from Employees a\n",
    "inner join Employees b\n",
    "on a.employee_id = b.reports_to\n",
    "group by a.employee_id, a.name\n",
    "order by a.employee_id"
   ]
  },
  {
   "cell_type": "markdown",
   "metadata": {},
   "source": [
    "1789. Primary Department for Each Employee"
   ]
  },
  {
   "cell_type": "code",
   "execution_count": null,
   "metadata": {},
   "outputs": [],
   "source": [
    "select b.employee_id, b.department_id\n",
    "from(\n",
    "    select employee_id, count(*) as dep_cnt\n",
    "    from Employee\n",
    "    group by employee_id) a\n",
    "left join Employee b\n",
    "on a.employee_id = b.employee_id\n",
    "where dep_cnt = 1 or primary_flag = 'Y'"
   ]
  },
  {
   "cell_type": "markdown",
   "metadata": {},
   "source": [
    "610. Triangle Judgement"
   ]
  },
  {
   "cell_type": "code",
   "execution_count": null,
   "metadata": {},
   "outputs": [],
   "source": [
    "select *,\n",
    "(case when (x + y > z) and (y + z > x) and (x + z > y) then 'Yes' else 'No' end) as triangle\n",
    "from Triangle"
   ]
  },
  {
   "cell_type": "markdown",
   "metadata": {},
   "source": [
    "180. Consecutive Numbers"
   ]
  },
  {
   "cell_type": "code",
   "execution_count": null,
   "metadata": {},
   "outputs": [],
   "source": [
    "with num_seq as \n",
    "(select num, \n",
    "        lead(num, 1) over (order by id) as num_1,\n",
    "        lead(num, 2) over (order by id) as num_2\n",
    " from Logs)\n",
    "\n",
    " select distinct num as ConsecutiveNums\n",
    " from num_seq\n",
    " where num = num_1 and num = num_2"
   ]
  },
  {
   "cell_type": "code",
   "execution_count": null,
   "metadata": {},
   "outputs": [],
   "source": [
    "# select count(distinct a.id) as ConsecutiveNums\n",
    "# from Logs a\n",
    "# inner join Logs b on a.id = b.id - 1\n",
    "# inner join Logs c on a.id = c.id - 2\n",
    "# where a.num = b.num and a.num = c.num"
   ]
  },
  {
   "cell_type": "markdown",
   "metadata": {},
   "source": [
    "1164. Product Price at a Given Date"
   ]
  },
  {
   "cell_type": "code",
   "execution_count": null,
   "metadata": {},
   "outputs": [],
   "source": [
    "select distinct a.product_id, \n",
    "      (case when ranking = 1 then b.new_price else 10 end) as price\n",
    "from Products a\n",
    "left join (\n",
    "    select *, rank() over(partition by product_id order by change_date desc) as ranking\n",
    "    from Products\n",
    "    where change_date <= '2019-08-16') b\n",
    "on a.product_id = b.product_id\n",
    "where ranking = 1 or ranking is null"
   ]
  },
  {
   "cell_type": "markdown",
   "metadata": {},
   "source": [
    "1204. Last Person to Fit in the Bus"
   ]
  },
  {
   "cell_type": "code",
   "execution_count": null,
   "metadata": {},
   "outputs": [],
   "source": [
    "with queue_weight as (\n",
    "    select person_name, turn, sum(weight) over(order by turn asc) as accu_weight\n",
    "    from Queue\n",
    ")\n",
    "\n",
    "select person_name\n",
    "from queue_weight\n",
    "where accu_weight <= 1000\n",
    "order by turn desc\n",
    "limit 1"
   ]
  },
  {
   "cell_type": "markdown",
   "metadata": {},
   "source": [
    "1907. Count Salary Categories"
   ]
  },
  {
   "cell_type": "code",
   "execution_count": null,
   "metadata": {},
   "outputs": [],
   "source": [
    "select 'Low Salary' as category,\n",
    "       sum(income < 20000) as accounts_count\n",
    "from Accounts\n",
    "union all\n",
    "select 'Average Salary' as category,\n",
    "       sum(income between 20000 and 50000) as accounts_count\n",
    "from Accounts\n",
    "union all\n",
    "select 'High Salary' as category,\n",
    "       sum(income > 50000) as accounts_count\n",
    "from Accounts"
   ]
  },
  {
   "cell_type": "markdown",
   "metadata": {},
   "source": [
    "1978. Employees Whose Manager Left the Company"
   ]
  },
  {
   "cell_type": "code",
   "execution_count": null,
   "metadata": {},
   "outputs": [],
   "source": [
    "select employee_id\n",
    "from Employees \n",
    "where salary < 30000\n",
    "and manager_id not in (select employee_id from Employees)\n",
    "order by employee_id"
   ]
  },
  {
   "cell_type": "code",
   "execution_count": null,
   "metadata": {},
   "outputs": [],
   "source": [
    "# select a.employee_id\n",
    "# from Employees a\n",
    "# left join Employees b\n",
    "# on a.manager_id = b.employee_id\n",
    "# where a.salary < 30000 \n",
    "# and a.manager_id is not null and b.employee_id is null\n",
    "# order by a.employee_id"
   ]
  },
  {
   "cell_type": "markdown",
   "metadata": {},
   "source": [
    "626. Exchange Seats"
   ]
  },
  {
   "cell_type": "code",
   "execution_count": null,
   "metadata": {},
   "outputs": [],
   "source": [
    "select \n",
    "(case when id % 2 = 0 then id - 1\n",
    "      when id % 2 != 0 and id = (select count(*) from Seat) then id\n",
    "      else id + 1 end) as id, student\n",
    "from Seat\n",
    "order by id"
   ]
  },
  {
   "cell_type": "code",
   "execution_count": null,
   "metadata": {},
   "outputs": [],
   "source": [
    "# select a.id, \n",
    "#     (case when b.student is null then a.student else b.student end) as student\n",
    "# from (\n",
    "#     select *,\n",
    "#         (case when id % 2 = 0 then id - 1 else id + 1 end ) as new_id\n",
    "#     from Seat ) a\n",
    "# left join Seat b\n",
    "# on a.new_id = b.id"
   ]
  },
  {
   "cell_type": "markdown",
   "metadata": {},
   "source": [
    "1341. Movie Rating"
   ]
  },
  {
   "cell_type": "code",
   "execution_count": null,
   "metadata": {},
   "outputs": [],
   "source": [
    "(select name as results\n",
    "from MovieRating a\n",
    "left join Users b on a.user_id = b.user_id\n",
    "group by a.user_id\n",
    "order by count(*) desc, name asc\n",
    "limit 1)\n",
    "\n",
    "union all\n",
    "\n",
    "(select title as results\n",
    "from MovieRating a\n",
    "left join Movies b on a.movie_id = b.movie_id\n",
    "where date_format(created_at, '%Y-%m') = '2020-02'\n",
    "group by a.movie_id\n",
    "order by avg(rating) desc, title asc\n",
    "limit 1)"
   ]
  },
  {
   "cell_type": "markdown",
   "metadata": {},
   "source": [
    "1321. Restaurant Growth"
   ]
  },
  {
   "cell_type": "code",
   "execution_count": null,
   "metadata": {},
   "outputs": [],
   "source": [
    "with daily_sum as (\n",
    "    select visited_on, sum(amount) as amount\n",
    "    from Customer\n",
    "    group by visited_on);\n",
    "\n",
    "select *\n",
    "from(\n",
    "    select visited_on, \n",
    "    sum(amount) over(order by visited_on range between interval 6 day preceding and current row) as amount,\n",
    "    round(avg(amount) over(order by visited_on range between interval 6 day preceding and current row), 2) as average_amount\n",
    "    from daily_sum\n",
    "    group by visited_on\n",
    ") a\n",
    "where visited_on >= (select min(visited_on) + interval 6 day from daily_sum);"
   ]
  },
  {
   "cell_type": "markdown",
   "metadata": {},
   "source": [
    "602. Friend Requests II: Who Has the Most Friends"
   ]
  },
  {
   "cell_type": "code",
   "execution_count": null,
   "metadata": {},
   "outputs": [],
   "source": [
    "select id, count(*) as num\n",
    "from(\n",
    "    (select requester_id as id from RequestAccepted)\n",
    "    union all\n",
    "    (select accepter_id as id from RequestAccepted)\n",
    ") a\n",
    "group by id\n",
    "order by num desc\n",
    "limit 1"
   ]
  },
  {
   "cell_type": "markdown",
   "metadata": {},
   "source": [
    "585. Investments in 2016"
   ]
  },
  {
   "cell_type": "code",
   "execution_count": null,
   "metadata": {},
   "outputs": [],
   "source": [
    "select round(sum(tiv_2016), 2) as tiv_2016\n",
    "from Insurance\n",
    "where tiv_2015 in (\n",
    "    select tiv_2015\n",
    "    from Insurance\n",
    "    group by tiv_2015\n",
    "    having count(*) > 1)\n",
    "and (lat, lon) not in (\n",
    "    select lat, lon\n",
    "    from Insurance\n",
    "    group by lat, lon\n",
    "    having count(*) > 1)"
   ]
  },
  {
   "cell_type": "markdown",
   "metadata": {},
   "source": [
    "1667. Fix Names in a Table"
   ]
  },
  {
   "cell_type": "code",
   "execution_count": null,
   "metadata": {},
   "outputs": [],
   "source": [
    "select user_id, \n",
    "concat(upper(substring(name, 1, 1)), lower(substring(name, 2))) as name\n",
    "from Users\n",
    "order by user_id"
   ]
  },
  {
   "cell_type": "markdown",
   "metadata": {},
   "source": [
    "1527. Patients With a Condition"
   ]
  },
  {
   "cell_type": "code",
   "execution_count": null,
   "metadata": {},
   "outputs": [],
   "source": [
    "select *\n",
    "from Patients\n",
    "where conditions like 'DIAB1%' or conditions like '% DIAB1%'"
   ]
  },
  {
   "cell_type": "markdown",
   "metadata": {},
   "source": [
    "196. Delete Duplicate Emails"
   ]
  },
  {
   "cell_type": "code",
   "execution_count": null,
   "metadata": {},
   "outputs": [],
   "source": [
    "delete a \n",
    "from Person a\n",
    "inner join Person b\n",
    "where a.email = b.email and a.id > b.id"
   ]
  },
  {
   "cell_type": "markdown",
   "metadata": {},
   "source": [
    "176. Second Highest Salary"
   ]
  },
  {
   "cell_type": "code",
   "execution_count": null,
   "metadata": {},
   "outputs": [],
   "source": [
    "select max(salary) as SecondHighestSalary\n",
    "from Employee\n",
    "where salary < (select max(salary) from Employee)"
   ]
  },
  {
   "cell_type": "markdown",
   "metadata": {},
   "source": [
    "1484. Group Sold Products By The Date"
   ]
  },
  {
   "cell_type": "code",
   "execution_count": null,
   "metadata": {},
   "outputs": [],
   "source": [
    "select sell_date, \n",
    "    count(distinct product) as num_sold,\n",
    "    group_concat(distinct product order by product asc separator ',') as products\n",
    "from Activities\n",
    "group by sell_date\n",
    "order by sell_date"
   ]
  },
  {
   "cell_type": "code",
   "execution_count": null,
   "metadata": {},
   "outputs": [],
   "source": [
    "# select sell_date, \n",
    "#     count(distinct product) as num_sold,\n",
    "#     string_agg(distinct product, ', ' order by product) as products\n",
    "# from Activities\n",
    "# group by sell_date"
   ]
  },
  {
   "cell_type": "markdown",
   "metadata": {},
   "source": [
    "1327. List the Products Ordered in a Period"
   ]
  },
  {
   "cell_type": "code",
   "execution_count": null,
   "metadata": {},
   "outputs": [],
   "source": [
    "select product_name, sum(unit) as unit\n",
    "from Products a\n",
    "left join Orders b\n",
    "on a.product_id = b.product_id\n",
    "where date_format(order_date, '%Y-%m') = '2020-02'\n",
    "group by product_name\n",
    "having unit >= 100"
   ]
  },
  {
   "cell_type": "markdown",
   "metadata": {},
   "source": [
    "1517. Find Users With Valid E-Mails"
   ]
  },
  {
   "cell_type": "code",
   "execution_count": null,
   "metadata": {},
   "outputs": [],
   "source": [
    "select *\n",
    "from users\n",
    "where mail regexp '^[A-Za-z][A-Za-z0-9_.-]*@leetcode[.]com$'\n",
    "\n",
    "# ^ asserts the start of the string.\n",
    "# [A-Za-z] ensures the string starts with an alphabetical character.\n",
    "# [A-Za-z0-9._-]* matches zero or more letters, digits, underscores, periods, or dashes.\n",
    "# @leetcode.com specifies the domain exactly.\n",
    "# $ asserts the end of the string."
   ]
  },
  {
   "cell_type": "markdown",
   "metadata": {},
   "source": [
    "185. Department Top Three Salaries"
   ]
  },
  {
   "cell_type": "code",
   "execution_count": null,
   "metadata": {},
   "outputs": [],
   "source": [
    "select b.name as Department, a.name as Employee, salary\n",
    "from(\n",
    "    select *,\n",
    "        dense_rank() over(partition by departmentId order by salary desc) as ranking\n",
    "    from Employee) a\n",
    "left join Department b on a.departmentId = b.id\n",
    "where a.ranking <= 3"
   ]
  }
 ],
 "metadata": {
  "language_info": {
   "name": "python"
  }
 },
 "nbformat": 4,
 "nbformat_minor": 2
}
