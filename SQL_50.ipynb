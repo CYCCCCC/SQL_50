{
 "cells": [
  {
   "cell_type": "markdown",
   "metadata": {},
   "source": [
    "1757. Recyclable and Low Fat Products"
   ]
  },
  {
   "cell_type": "code",
   "execution_count": null,
   "metadata": {},
   "outputs": [],
   "source": [
    "select product_id\n",
    "from Products\n",
    "where low_fats = 'Y' and recyclable = 'Y';"
   ]
  },
  {
   "cell_type": "markdown",
   "metadata": {},
   "source": [
    "584. Find Customer Referee"
   ]
  },
  {
   "cell_type": "code",
   "execution_count": null,
   "metadata": {},
   "outputs": [],
   "source": [
    "select name \n",
    "from Customer\n",
    "where referee_id <> 2 or referee_id is null;"
   ]
  },
  {
   "cell_type": "markdown",
   "metadata": {},
   "source": [
    "595. Big Countries"
   ]
  },
  {
   "cell_type": "code",
   "execution_count": null,
   "metadata": {},
   "outputs": [],
   "source": [
    "select name, population, area\n",
    "from World\n",
    "where area >= 3000000 or population >= 25000000;"
   ]
  },
  {
   "cell_type": "markdown",
   "metadata": {},
   "source": [
    "1148. Article Views I"
   ]
  },
  {
   "cell_type": "code",
   "execution_count": null,
   "metadata": {},
   "outputs": [],
   "source": [
    "select distinct author_id as id\n",
    "from Views\n",
    "where author_id = viewer_id\n",
    "order by author_id asc;"
   ]
  },
  {
   "cell_type": "markdown",
   "metadata": {},
   "source": [
    "1683. Invalid Tweets"
   ]
  },
  {
   "cell_type": "code",
   "execution_count": null,
   "metadata": {},
   "outputs": [],
   "source": [
    "select tweet_id\n",
    "from Tweets\n",
    "where length(content) > 15;"
   ]
  },
  {
   "cell_type": "markdown",
   "metadata": {},
   "source": [
    "1378. Replace Employee ID With The Unique Identifier"
   ]
  },
  {
   "cell_type": "code",
   "execution_count": null,
   "metadata": {},
   "outputs": [],
   "source": [
    "select unique_id, name\n",
    "from Employees a\n",
    "left join EmployeeUNI b\n",
    "on a.id = b.id;"
   ]
  },
  {
   "cell_type": "markdown",
   "metadata": {},
   "source": [
    "1068. Product Sales Analysis I"
   ]
  },
  {
   "cell_type": "code",
   "execution_count": null,
   "metadata": {},
   "outputs": [],
   "source": [
    "select b.product_name, a.year, a.price\n",
    "from Sales a \n",
    "left join Product b \n",
    "on a.product_id = b.product_id;"
   ]
  },
  {
   "cell_type": "markdown",
   "metadata": {},
   "source": [
    "1581. Customer Who Visited but Did Not Make Any Transactions"
   ]
  },
  {
   "cell_type": "code",
   "execution_count": null,
   "metadata": {},
   "outputs": [],
   "source": [
    "select customer_id, count(*) as count_no_trans\n",
    "from Visits a\n",
    "left join Transactions b\n",
    "on a.visit_id = b.visit_id\n",
    "where transaction_id is null\n",
    "group by customer_id;"
   ]
  },
  {
   "cell_type": "markdown",
   "metadata": {},
   "source": [
    "197. Rising Temperature"
   ]
  },
  {
   "cell_type": "code",
   "execution_count": null,
   "metadata": {},
   "outputs": [],
   "source": [
    "select a.id\n",
    "from Weather a\n",
    "left join Weather b\n",
    "on a.recordDate = date_add(b.recordDate, interval 1 day)\n",
    "where a.temperature > b.temperature;"
   ]
  },
  {
   "cell_type": "code",
   "execution_count": null,
   "metadata": {},
   "outputs": [],
   "source": [
    "# lag function only can be used in same time difference\n",
    "\n",
    "# select id\n",
    "# from \n",
    "#     (select *, \n",
    "#             lag(temperature, 1) over (order by recordDate asc) as pre_temp\n",
    "#      from Weather) as a\n",
    "# where temperature > pre_temp"
   ]
  },
  {
   "cell_type": "markdown",
   "metadata": {},
   "source": [
    "1661. Average Time of Process per Machine"
   ]
  },
  {
   "cell_type": "code",
   "execution_count": null,
   "metadata": {},
   "outputs": [],
   "source": [
    "select a.machine_id, round(avg(b.timestamp - a.timestamp), 3) as processing_time\n",
    "from Activity a\n",
    "inner join Activity b\n",
    "on a.machine_id = b.machine_id \n",
    "and a.process_id = b.process_id\n",
    "and a.activity_type = 'start' and b.activity_type = 'end'\n",
    "group by a.machine_id"
   ]
  },
  {
   "cell_type": "code",
   "execution_count": null,
   "metadata": {},
   "outputs": [],
   "source": [
    "# select machine_id, round(avg(processing_time), 3) as processing_time\n",
    "# from (\n",
    "#     select machine_id, process_id, \n",
    "#         (max(timestamp) - min(timestamp)) as processing_time\n",
    "#     from Activity\n",
    "#     group by machine_id, process_id) a\n",
    "# group by machine_id"
   ]
  },
  {
   "cell_type": "markdown",
   "metadata": {},
   "source": [
    "577. Employee Bonus"
   ]
  },
  {
   "cell_type": "code",
   "execution_count": null,
   "metadata": {},
   "outputs": [],
   "source": [
    "select a.name, b.bonus \n",
    "from Employee a\n",
    "left join Bonus b\n",
    "on a.empId = b.empId\n",
    "where b.bonus < 1000 or b.bonus is null;"
   ]
  },
  {
   "cell_type": "markdown",
   "metadata": {},
   "source": [
    "1280. Students and Examinations"
   ]
  },
  {
   "cell_type": "code",
   "execution_count": null,
   "metadata": {},
   "outputs": [],
   "source": [
    "select a.*, count(b.subject_name) as attended_exams\n",
    "from (select * from Students cross join Subjects) a\n",
    "left join Examinations b\n",
    "on a.student_id = b.student_id\n",
    "and a.subject_name = b.subject_name\n",
    "group by 1, 2, 3\n",
    "order by 1, 3;"
   ]
  },
  {
   "cell_type": "markdown",
   "metadata": {},
   "source": [
    "570. Managers with at Least 5 Direct Reports"
   ]
  },
  {
   "cell_type": "code",
   "execution_count": null,
   "metadata": {},
   "outputs": [],
   "source": [
    "select name\n",
    "from Employee\n",
    "where id in (select managerId \n",
    "             from Employee\n",
    "             group by managerId\n",
    "             having count(*) >= 5)\n",
    "group by id;"
   ]
  }
 ],
 "metadata": {
  "language_info": {
   "name": "python"
  }
 },
 "nbformat": 4,
 "nbformat_minor": 2
}
